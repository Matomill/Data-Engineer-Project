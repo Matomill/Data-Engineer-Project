{
 "cells": [
  {
   "cell_type": "markdown",
   "id": "25979beb",
   "metadata": {},
   "source": [
    "# Little Lemon Client Database"
   ]
  },
  {
   "cell_type": "markdown",
   "id": "c4cecfee",
   "metadata": {},
   "source": [
    "Step 1 - Install necessary packages"
   ]
  },
  {
   "cell_type": "code",
   "execution_count": null,
   "id": "64448f99",
   "metadata": {},
   "outputs": [],
   "source": [
    "!pip install mysql-connector-python"
   ]
  },
  {
   "cell_type": "markdown",
   "id": "1610d0f9",
   "metadata": {},
   "source": [
    "Step 2 - We need import the packages"
   ]
  },
  {
   "cell_type": "code",
   "execution_count": 1,
   "id": "d0c9182d",
   "metadata": {},
   "outputs": [],
   "source": [
    "import mysql.connector as connector "
   ]
  },
  {
   "cell_type": "markdown",
   "id": "f1ed26af",
   "metadata": {},
   "source": [
    "Step 3 - Create a connection"
   ]
  },
  {
   "cell_type": "code",
   "execution_count": 2,
   "id": "aa883a69",
   "metadata": {},
   "outputs": [],
   "source": [
    "connection = connector.connect(user = \"root\", password = \"\", db = \"LittleLemonDB\", port = 3307)"
   ]
  },
  {
   "cell_type": "markdown",
   "id": "a75b26e2",
   "metadata": {},
   "source": [
    "Step 4 - Create a cursor"
   ]
  },
  {
   "cell_type": "code",
   "execution_count": 3,
   "id": "e87e7539",
   "metadata": {},
   "outputs": [],
   "source": [
    "cursor = connection.cursor()"
   ]
  },
  {
   "cell_type": "markdown",
   "id": "d7906326",
   "metadata": {},
   "source": [
    "Adding query function to show tables into the database"
   ]
  },
  {
   "cell_type": "code",
   "execution_count": 14,
   "id": "1b2f70c3",
   "metadata": {},
   "outputs": [
    {
     "name": "stdout",
     "output_type": "stream",
     "text": [
      "[('Bookings',), ('Customers',), ('Items',), ('Menu',), ('MoreThanTwoOrders',), ('OrderDeliveryStatus',), ('Orders',), ('OrdersView',), ('OrdersWithCostGratherThan',), ('Staff',)]\n"
     ]
    }
   ],
   "source": [
    "show_tables_query = \"SHOW tables\" \n",
    "cursor.execute(show_tables_query)\n",
    "result = cursor.fetchall()\n",
    "print(result)"
   ]
  },
  {
   "cell_type": "markdown",
   "id": "c8a900ca",
   "metadata": {},
   "source": [
    "Query with table join"
   ]
  },
  {
   "cell_type": "code",
   "execution_count": 4,
   "id": "7436ba07",
   "metadata": {},
   "outputs": [
    {
     "name": "stdout",
     "output_type": "stream",
     "text": [
      "[('Pedro Gonzalez', 'pedrog@mail.com', Decimal('65'))]\n"
     ]
    }
   ],
   "source": [
    "join_query = \"\"\"\n",
    "              SELECT Customers.CustomerName, Customers.Email, Orders.TotalCost\n",
    "              FROM Customers INNER JOIN Orders\n",
    "              ON Customers.CustomerID = Orders.OrderID\n",
    "              WHERE Orders.TotalCost > 60;\n",
    "             \"\"\" \n",
    "                \n",
    "cursor.execute(join_query)\n",
    "result = cursor.fetchall()\n",
    "print(result)                "
   ]
  },
  {
   "cell_type": "code",
   "execution_count": null,
   "id": "f6855af8",
   "metadata": {},
   "outputs": [],
   "source": []
  }
 ],
 "metadata": {
  "kernelspec": {
   "display_name": "Python 3 (ipykernel)",
   "language": "python",
   "name": "python3"
  },
  "language_info": {
   "codemirror_mode": {
    "name": "ipython",
    "version": 3
   },
   "file_extension": ".py",
   "mimetype": "text/x-python",
   "name": "python",
   "nbconvert_exporter": "python",
   "pygments_lexer": "ipython3",
   "version": "3.9.13"
  }
 },
 "nbformat": 4,
 "nbformat_minor": 5
}
